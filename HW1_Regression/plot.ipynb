{
 "cells": [
  {
   "cell_type": "code",
   "execution_count": 31,
   "metadata": {},
   "outputs": [
    {
     "name": "stdout",
     "output_type": "stream",
     "text": [
      "epoch: 1/10 loss: 0.025\n",
      "epoch: 2/10 loss: 0.016\n",
      "epoch: 3/10 loss: 0.004\n",
      "epoch: 4/10 loss: 0.014\n",
      "epoch: 5/10 loss: 0.005\n",
      "epoch: 6/10 loss: 0.007\n",
      "epoch: 7/10 loss: 0.003\n",
      "epoch: 8/10 loss: 0.003\n",
      "epoch: 9/10 loss: 0.001\n",
      "epoch: 10/10 loss: 0.004\n",
      "test avg loss:0.009\n"
     ]
    },
    {
     "data": {
      "image/png": "[encoded data removed]",
      "text/plain": [
       "<Figure size 432x288 with 1 Axes>"
      ]
     },
     "metadata": {
      "needs_background": "light"
     },
     "output_type": "display_data"
    }
   ],
   "source": [
    "import dataset\n",
    "import model\n",
    "import torch\n",
    "import torch.nn as nn\n",
    "from torch.utils.data import DataLoader\n",
    "import matplotlib.pyplot as plt\n",
    "import numpy as np\n",
    "\n",
    "#set device\n",
    "device = \"cuda\"\n",
    "\n",
    "#hyper parameters\n",
    "n_epoch = 10\n",
    "batch_size = 16\n",
    "lr = 0.01\n",
    "\n",
    "#dataset and dataloader\n",
    "train_set = dataset.COVID19Dataset(mode=\"train\")\n",
    "test_set = dataset.COVID19Dataset(mode=\"test\")\n",
    "\n",
    "train_loader = DataLoader(dataset = train_set, shuffle = True, batch_size = batch_size, num_workers = 2)\n",
    "test_loader = DataLoader(dataset = test_set, shuffle = True, batch_size = batch_size, num_workers = 2)\n",
    "\n",
    "#setup model\n",
    "model = model.Regression()\n",
    "critirion = nn.MSELoss()\n",
    "optimizer = torch.optim.SGD(model.parameters(), lr=lr)\n",
    "\n",
    "#training loop\n",
    "\n",
    "for epoch in range(n_epoch):\n",
    "    for i, (features, labels) in enumerate(train_loader):\n",
    "        predicted = model(features)\n",
    "        loss = critirion(predicted, labels)\n",
    "        loss.backward()\n",
    "        optimizer.step()\n",
    "        optimizer.zero_grad()\n",
    "    print(f'epoch: {epoch+1}/{n_epoch}', f'loss: {loss.item():.3f}')\n",
    "\n",
    "#test total loss\n",
    "#also plot regression\n",
    "model.eval()\n",
    "total_loss = 0.0\n",
    "pred = []\n",
    "gt = []\n",
    "with torch.no_grad():\n",
    "    for i, (features, labels) in enumerate(test_loader):\n",
    "        predicted = model(features)\n",
    "        pred.append(predicted.detach().cpu())\n",
    "        gt.append(labels.detach().cpu())\n",
    "        loss = critirion(predicted, labels).detach().cpu().item()\n",
    "        total_loss += loss*batch_size\n",
    "\n",
    "total_loss /= len(test_set)\n",
    "print(f'test avg loss:{total_loss:.3f}')\n",
    "\n",
    "pred = torch.cat(pred, dim=0).numpy()\n",
    "gt = torch.cat(gt, dim=0).numpy()\n",
    "plt.scatter(gt, pred,c='r')\n",
    "plt.plot([gt.min(), gt.max()], [pred.min(), pred.max()], c='b')\n",
    "plt.show()\n"
   ]
  },
  {
   "cell_type": "code",
   "execution_count": null,
   "metadata": {},
   "outputs": [],
   "source": [
    "'''\n",
    "epoch: 1/10 loss: 0.163\n",
    "epoch: 2/10 loss: 0.302\n",
    "epoch: 3/10 loss: 0.187\n",
    "epoch: 4/10 loss: 0.046\n",
    "epoch: 5/10 loss: 0.051\n",
    "epoch: 6/10 loss: 0.100\n",
    "epoch: 7/10 loss: 0.074\n",
    "epoch: 8/10 loss: 0.178\n",
    "epoch: 9/10 loss: 0.036\n",
    "epoch: 10/10 loss: 0.037\n",
    "test avg loss:0.284\n",
    "'''"
   ]
  }
 ],
 "metadata": {
  "interpreter": {
   "hash": "6c5873aed762ccbf15c242a0217404026ad4ec08bef6ff71f4f5067165470ef6"
  },
  "kernelspec": {
   "display_name": "Python 3.6.13 ('pytorch': conda)",
   "language": "python",
   "name": "python3"
  },
  "language_info": {
   "codemirror_mode": {
    "name": "ipython",
    "version": 3
   },
   "file_extension": ".py",
   "mimetype": "text/x-python",
   "name": "python",
   "nbconvert_exporter": "python",
   "pygments_lexer": "ipython3",
   "version": "3.6.13"
  },
  "orig_nbformat": 4
 },
 "nbformat": 4,
 "nbformat_minor": 2
}
